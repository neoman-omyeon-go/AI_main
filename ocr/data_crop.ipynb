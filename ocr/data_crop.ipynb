{
 "cells": [
  {
   "cell_type": "code",
   "execution_count": null,
   "metadata": {},
   "outputs": [],
   "source": [
    "from PIL import Image\n",
    "import json\n",
    "import pandas as pd\n",
    "import os\n",
    "\n",
    "# Load JSON data from the uploaded image description\n",
    "with open('/mnt/data/image.png', 'r') as file:\n",
    "    data = file.read()\n",
    "\n",
    "# Convert string data to JSON\n",
    "json_data = json.loads(data)\n",
    "\n",
    "# Function to crop images based on bounding box and save them with labels\n",
    "def crop_and_label_images(json_data, base_path='/mnt/data/'):\n",
    "    # List to hold image name and label for CSV\n",
    "    image_label_list = []\n",
    "    \n",
    "    # Load the image\n",
    "    img_path = os.path.join(base_path, json_data['images'][0]['file_name'])\n",
    "    with Image.open(img_path) as img:\n",
    "        # Process each annotation (bbox and label)\n",
    "        for annotation in json_data['annotations']:\n",
    "            # Extract bbox coordinates\n",
    "            bbox = annotation['bbox']\n",
    "            left, top, right, bottom = bbox[0], bbox[1], bbox[0] + bbox[2], bbox[1] + bbox[3]\n",
    "            \n",
    "            # Crop the image\n",
    "            cropped_img = img.crop((left, top, right, bottom))\n",
    "            \n",
    "            # Generate new image name\n",
    "            cropped_img_name = f\"{annotation['id']}_{json_data['images'][0]['file_name']}\"\n",
    "            cropped_img_path = os.path.join(base_path, cropped_img_name)\n",
    "            \n",
    "            # Save the cropped image\n",
    "            cropped_img.save(cropped_img_path)\n",
    "            \n",
    "            # Append the image name and label to the list\n",
    "            image_label_list.append([cropped_img_name, annotation['text']])\n",
    "    \n",
    "    # Convert list to DataFrame\n",
    "    df = pd.DataFrame(image_label_list, columns=['image_name', 'label'])\n",
    "    \n",
    "    # Save DataFrame to CSV\n",
    "    csv_path = os.path.join(base_path, 'labels.csv')\n",
    "    df.to_csv(csv_path, index=False)\n",
    "    \n",
    "    return csv_path\n",
    "\n",
    "# Call the function and create the CSV\n",
    "csv_file_path = crop_and_label_images(json_data)\n",
    "\n",
    "csv_file_path\n"
   ]
  }
 ],
 "metadata": {
  "accelerator": "GPU",
  "colab": {
   "collapsed_sections": [],
   "include_colab_link": true,
   "name": "deep-text-recognition-benchmark.ipynb",
   "provenance": []
  },
  "kernelspec": {
   "display_name": "Python 3 (ipykernel)",
   "language": "python",
   "name": "python3"
  },
  "language_info": {
   "codemirror_mode": {
    "name": "ipython",
    "version": 3
   },
   "file_extension": ".py",
   "mimetype": "text/x-python",
   "name": "python",
   "nbconvert_exporter": "python",
   "pygments_lexer": "ipython3",
   "version": "3.7.16"
  }
 },
 "nbformat": 4,
 "nbformat_minor": 4
}
